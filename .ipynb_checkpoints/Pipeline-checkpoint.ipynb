{
 "cells": [
  {
   "cell_type": "markdown",
   "id": "4b506172",
   "metadata": {},
   "source": [
    "## Purpose of the assignment\n",
    "\n",
    "The purpose of this assignment is to use text data in order to classify assignments accordingly into relevant courses."
   ]
  },
  {
   "cell_type": "markdown",
   "id": "a9d61550",
   "metadata": {},
   "source": [
    "## Data\n",
    "\n",
    "The data for the assignment will be every set of assignment instructions that I can find over the course of building this pipeline ranging from cornerstone year all the way to my current courses."
   ]
  },
  {
   "cell_type": "markdown",
   "id": "4776a0ab",
   "metadata": {},
   "source": [
    "## Data processing"
   ]
  },
  {
   "cell_type": "markdown",
   "id": "2125efdc",
   "metadata": {},
   "source": [
    "## Summary statistics"
   ]
  },
  {
   "cell_type": "markdown",
   "id": "cb106875",
   "metadata": {},
   "source": [
    "## Model type"
   ]
  },
  {
   "cell_type": "markdown",
   "id": "1a589c55",
   "metadata": {},
   "source": [
    "## Model selection"
   ]
  },
  {
   "cell_type": "markdown",
   "id": "81332b28",
   "metadata": {},
   "source": [
    "## Training the model"
   ]
  },
  {
   "cell_type": "code",
   "execution_count": 1,
   "id": "222d2819",
   "metadata": {},
   "outputs": [],
   "source": [
    "# this is just the start of my coding. I still need to look more into the idea and see what approaches people take.\n",
    "\n",
    "from sklearn.feature_extraction.text import CountVectorizer\n",
    "from sklearn.naive_bayes import MultinomialNB\n",
    "from sklearn.pipeline import Pipeline\n",
    "\n",
    "def train_naive_bayes_classifier(training_data, training_labels):\n",
    "    # Create a pipeline with a CountVectorizer and a MultinomialNB classifier\n",
    "    pipeline = Pipeline([\n",
    "        ('vectorizer', CountVectorizer()),\n",
    "        ('classifier', MultinomialNB()),\n",
    "    ])\n",
    "    # Fit the pipeline to the training data and labels\n",
    "    pipeline.fit(training_data, training_labels)\n",
    "    return pipeline\n",
    "\n",
    "def classify_text_files(pipeline, text_files):\n",
    "    return pipeline.predict(text_files)"
   ]
  },
  {
   "cell_type": "markdown",
   "id": "8231327f",
   "metadata": {},
   "source": [
    "## Predictions"
   ]
  },
  {
   "cell_type": "markdown",
   "id": "b0875a98",
   "metadata": {},
   "source": [
    "## Performance metrics"
   ]
  },
  {
   "cell_type": "markdown",
   "id": "fbb75eb4",
   "metadata": {},
   "source": [
    "## Visualizations of results"
   ]
  },
  {
   "cell_type": "markdown",
   "id": "84883530",
   "metadata": {},
   "source": [
    "## Conclusion"
   ]
  },
  {
   "cell_type": "markdown",
   "id": "c0722e44",
   "metadata": {},
   "source": [
    "## Executive summary"
   ]
  },
  {
   "cell_type": "markdown",
   "id": "c27fcbe8",
   "metadata": {},
   "source": [
    "## References"
   ]
  }
 ],
 "metadata": {
  "kernelspec": {
   "display_name": "Python 3 (ipykernel)",
   "language": "python",
   "name": "python3"
  },
  "language_info": {
   "codemirror_mode": {
    "name": "ipython",
    "version": 3
   },
   "file_extension": ".py",
   "mimetype": "text/x-python",
   "name": "python",
   "nbconvert_exporter": "python",
   "pygments_lexer": "ipython3",
   "version": "3.8.13"
  }
 },
 "nbformat": 4,
 "nbformat_minor": 5
}
