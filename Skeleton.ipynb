{
 "cells": [
  {
   "cell_type": "code",
   "execution_count": 1,
   "metadata": {},
   "outputs": [],
   "source": [
    "import pandas as pd\n",
    "import numpy as np\n",
    "import matplotlib.pyplot as plt\n",
    "import seaborn as sns"
   ]
  },
  {
   "cell_type": "code",
   "execution_count": 2,
   "metadata": {},
   "outputs": [],
   "source": [
    "#importing sklearn libraries\n",
    "from sklearn.model_selection import KFold, cross_val_score, train_test_split\n",
    "from sklearn.model_selection import GridSearchCV\n",
    "from sklearn.pipeline import Pipeline\n",
    "from sklearn.metrics import classification_report, confusion_matrix\n",
    "from sklearn.neighbors import KNeighborsClassifier\n",
    "from sklearn.svm import SVC\n",
    "from sklearn.ensemble import RandomForestClassifier"
   ]
  },
  {
   "cell_type": "code",
   "execution_count": 4,
   "metadata": {},
   "outputs": [
    {
     "data": {
      "text/html": [
       "<div>\n",
       "<style scoped>\n",
       "    .dataframe tbody tr th:only-of-type {\n",
       "        vertical-align: middle;\n",
       "    }\n",
       "\n",
       "    .dataframe tbody tr th {\n",
       "        vertical-align: top;\n",
       "    }\n",
       "\n",
       "    .dataframe thead th {\n",
       "        text-align: right;\n",
       "    }\n",
       "</style>\n",
       "<table border=\"1\" class=\"dataframe\">\n",
       "  <thead>\n",
       "    <tr style=\"text-align: right;\">\n",
       "      <th></th>\n",
       "      <th>Workout</th>\n",
       "      <th>Duration</th>\n",
       "      <th>Burned(kcal)</th>\n",
       "      <th>warmup</th>\n",
       "      <th>fat_burn</th>\n",
       "      <th>endurance</th>\n",
       "      <th>anaerobic</th>\n",
       "      <th>threshold</th>\n",
       "      <th>max_heartrate</th>\n",
       "      <th>avg_heartrate</th>\n",
       "    </tr>\n",
       "  </thead>\n",
       "  <tbody>\n",
       "    <tr>\n",
       "      <th>0</th>\n",
       "      <td>0</td>\n",
       "      <td>79</td>\n",
       "      <td>754</td>\n",
       "      <td>12</td>\n",
       "      <td>21</td>\n",
       "      <td>33</td>\n",
       "      <td>13</td>\n",
       "      <td>0</td>\n",
       "      <td>178</td>\n",
       "      <td>144</td>\n",
       "    </tr>\n",
       "    <tr>\n",
       "      <th>1</th>\n",
       "      <td>1</td>\n",
       "      <td>62</td>\n",
       "      <td>653</td>\n",
       "      <td>4</td>\n",
       "      <td>19</td>\n",
       "      <td>31</td>\n",
       "      <td>8</td>\n",
       "      <td>0</td>\n",
       "      <td>165</td>\n",
       "      <td>139</td>\n",
       "    </tr>\n",
       "    <tr>\n",
       "      <th>2</th>\n",
       "      <td>1</td>\n",
       "      <td>59</td>\n",
       "      <td>648</td>\n",
       "      <td>3</td>\n",
       "      <td>17</td>\n",
       "      <td>29</td>\n",
       "      <td>10</td>\n",
       "      <td>0</td>\n",
       "      <td>168</td>\n",
       "      <td>142</td>\n",
       "    </tr>\n",
       "    <tr>\n",
       "      <th>3</th>\n",
       "      <td>0</td>\n",
       "      <td>91</td>\n",
       "      <td>972</td>\n",
       "      <td>14</td>\n",
       "      <td>22</td>\n",
       "      <td>42</td>\n",
       "      <td>13</td>\n",
       "      <td>1</td>\n",
       "      <td>197</td>\n",
       "      <td>157</td>\n",
       "    </tr>\n",
       "    <tr>\n",
       "      <th>4</th>\n",
       "      <td>0</td>\n",
       "      <td>98</td>\n",
       "      <td>1031</td>\n",
       "      <td>13</td>\n",
       "      <td>18</td>\n",
       "      <td>52</td>\n",
       "      <td>15</td>\n",
       "      <td>1</td>\n",
       "      <td>203</td>\n",
       "      <td>161</td>\n",
       "    </tr>\n",
       "  </tbody>\n",
       "</table>\n",
       "</div>"
      ],
      "text/plain": [
       "   Workout  Duration  Burned(kcal)  warmup  fat_burn  endurance  anaerobic  \\\n",
       "0        0        79           754      12        21         33         13   \n",
       "1        1        62           653       4        19         31          8   \n",
       "2        1        59           648       3        17         29         10   \n",
       "3        0        91           972      14        22         42         13   \n",
       "4        0        98          1031      13        18         52         15   \n",
       "\n",
       "   threshold  max_heartrate  avg_heartrate  \n",
       "0          0            178            144  \n",
       "1          0            165            139  \n",
       "2          0            168            142  \n",
       "3          1            197            157  \n",
       "4          1            203            161  "
      ]
     },
     "execution_count": 4,
     "metadata": {},
     "output_type": "execute_result"
    }
   ],
   "source": [
    "\"\"\"\n",
    "0 - squash\n",
    "1 - basketball\n",
    "2 - Volleyball\n",
    "3 - Walk\n",
    "4 - Gym\n",
    "\"\"\"\n",
    "\n",
    "df = pd.read_csv('data.csv')\n",
    "mapper = {'Squash': 0, 'Basketball':1, 'Volleyball':2, 'Walk':3, 'Gym':4}\n",
    "df['Workout'] = df['Workout'].map(mapper)\n",
    "df.head()"
   ]
  },
  {
   "cell_type": "code",
   "execution_count": 5,
   "metadata": {},
   "outputs": [],
   "source": [
    "y = df['Workout'].values\n",
    "X = df.drop(['Workout'], axis = 1).values"
   ]
  },
  {
   "cell_type": "code",
   "execution_count": 6,
   "metadata": {},
   "outputs": [],
   "source": [
    "X_train, X_test, y_train, y_test = train_test_split(X, y, test_size=0.3)\n"
   ]
  },
  {
   "cell_type": "code",
   "execution_count": 7,
   "metadata": {},
   "outputs": [
    {
     "name": "stdout",
     "output_type": "stream",
     "text": [
      "KNN test accuracy 0.647\n",
      "Random Forest test accuracy 0.706\n",
      "SVC test accuracy 0.471\n"
     ]
    }
   ],
   "source": [
    "models = {'KNN': KNeighborsClassifier(leaf_size=1, n_neighbors=7, p=1), \n",
    "          'Random Forest': RandomForestClassifier(max_depth = 11, n_estimators =  201, bootstrap = False), \n",
    "          'SVC': SVC(C=10, gamma=0.01, kernel='rbf')}\n",
    "\n",
    "for name, model in models.items():\n",
    "    model.fit(X_train, y_train)\n",
    "    test_score = model.score(X_test, y_test)\n",
    "    print(f'{name} test accuracy {test_score:.3}')"
   ]
  },
  {
   "cell_type": "code",
   "execution_count": 9,
   "metadata": {},
   "outputs": [
    {
     "name": "stdout",
     "output_type": "stream",
     "text": [
      "{'max_depth': 3, 'n_estimators': 40} 0.9214285714285714\n"
     ]
    }
   ],
   "source": [
    "kf = KFold(n_splits = 5, shuffle = True, random_state=43)\n",
    "param_grid = {'max_depth' : np.arange(1, 50, 1), 'n_estimators': np.arange(10, 300, 10)}\n",
    "\n",
    "RF = RandomForestClassifier()\n",
    "RF_cv = GridSearchCV(RF, param_grid, cv = kf)\n",
    "RF_cv.fit(X_train, y_train)\n",
    "print(RF_cv.best_params_, RF_cv.best_score_)\n",
    "\n"
   ]
  },
  {
   "cell_type": "code",
   "execution_count": 10,
   "metadata": {},
   "outputs": [
    {
     "data": {
      "image/png": "[encoded data removed]",
      "text/plain": [
       "<Figure size 640x480 with 1 Axes>"
      ]
     },
     "metadata": {},
     "output_type": "display_data"
    }
   ],
   "source": [
    "#visualizing hyperparameter tuning (example)\n",
    "train_accuracies = {}\n",
    "test_accuracies = {}\n",
    "n_estimators = np.arange(10, 500, 10)\n",
    "\n",
    "#trying different values for the model parameter n_neighbors, which is the number of neighbors used to classify a datum\n",
    "for n in n_estimators:\n",
    "    RF = RandomForestClassifier(max_depth = 3, n_estimators =  n, bootstrap = False)\n",
    "    RF.fit(X_train, y_train)\n",
    "    train_accuracies[n] = RF.score(X_train, y_train)\n",
    "    test_accuracies[n] = RF.score(X_test, y_test)\n",
    "\n",
    "#plotting the accuracies using different parameter values to account for underfitting or overfitting\n",
    "plt.title(\"KNN: Varying numbers of estimators\")\n",
    "plt.plot(n_estimators, train_accuracies.values(), label = 'Training accuracy')\n",
    "plt.plot(n_estimators, test_accuracies.values(), label = 'Testing accuracy')\n",
    "plt.legend()\n",
    "plt.xlabel(\"Number of Estimators\")\n",
    "plt.ylabel(\"Accuracy\")\n",
    "plt.show()"
   ]
  },
  {
   "cell_type": "code",
   "execution_count": null,
   "metadata": {},
   "outputs": [],
   "source": []
  },
  {
   "cell_type": "code",
   "execution_count": null,
   "metadata": {},
   "outputs": [],
   "source": []
  }
 ],
 "metadata": {
  "kernelspec": {
   "display_name": "base",
   "language": "python",
   "name": "python3"
  },
  "language_info": {
   "codemirror_mode": {
    "name": "ipython",
    "version": 3
   },
   "file_extension": ".py",
   "mimetype": "text/x-python",
   "name": "python",
   "nbconvert_exporter": "python",
   "pygments_lexer": "ipython3",
   "version": "3.8.13"
  },
  "orig_nbformat": 4,
  "vscode": {
   "interpreter": {
    "hash": "7ea3a11aaa978d9646058336c84c9a0218aba8c5d679a7a8e354537b3f287648"
   }
  }
 },
 "nbformat": 4,
 "nbformat_minor": 2
}
